{
 "cells": [
  {
   "cell_type": "code",
   "execution_count": null,
   "id": "f6681328",
   "metadata": {},
   "outputs": [],
   "source": [
    "# Ejercicio 1 – POO (herencia_poo)\n",
    "\n",
    "# Los pilares de la POO son:  abstraccion, encapsulamiento, herencia, poliformismo, esto para realizar un codigo mas claro reutilizable y escalabale.\n",
    "\n",
    "# Abstracción: Separamos lo esencial de lo accesorio representamos objetos del mundo real.\t\n",
    "# Creamos clases como CuentaBancaria para representar una cuenta, con sus métodos y atributos relevantes.\n",
    "\n",
    "# Encapsulamiento: Ocultamos detalles internos y proteger los datos del objeto. \n",
    "# Los atributos titular y saldo están dentro del objeto, y se accede a ellos solo por métodos como depositar() o mostrar_saldo().\n",
    "\n",
    "# Herencia:\tPermitir que una clase hija herede atributos y comportamientos de otra. \n",
    "# La clase CuentaAhorros hereda de CuentaBancaria y reutiliza su lógica, añadiendo su propia funcionalidad (tasa_interes).\n",
    "\n",
    "# Polimorfismo: Permitir que métodos compartan nombre pero se comporten diferente según la clase. \n",
    "# Si tuvieramos varias clases con un método aplicar_interes(), cada una podría tener una lógica distinta. Esto es polimorfismo."
   ]
  },
  {
   "cell_type": "code",
   "execution_count": 1,
   "id": "f36a696d",
   "metadata": {},
   "outputs": [
    {
     "name": "stdout",
     "output_type": "stream",
     "text": [
      "Jhoan tiene $1010.0 en su cuenta.\n"
     ]
    }
   ],
   "source": [
    "class CuentaBancaria:\n",
    "    def __init__(self, titular, saldo=0):\n",
    "        self.titular = titular\n",
    "        self.saldo = saldo\n",
    "\n",
    "    def depositar(self, monto):\n",
    "        self.saldo += monto\n",
    "\n",
    "    def mostrar_saldo(self):\n",
    "        return f\"{self.titular} tiene ${self.saldo} en su cuenta.\"\n",
    "\n",
    "class CuentaAhorros(CuentaBancaria):\n",
    "    def __init__(self, titular, saldo=0, tasa_interes=0.01):\n",
    "        super().__init__(titular, saldo)\n",
    "        self.tasa_interes = tasa_interes\n",
    "\n",
    "    def aplicar_interes(self):\n",
    "        self.saldo += self.saldo * self.tasa_interes\n",
    "\n",
    "cuenta = CuentaAhorros(\"Jhoan\", 1000)\n",
    "cuenta.aplicar_interes()\n",
    "print(cuenta.mostrar_saldo())"
   ]
  },
  {
   "cell_type": "code",
   "execution_count": null,
   "id": "7dd2bc64",
   "metadata": {},
   "outputs": [],
   "source": []
  }
 ],
 "metadata": {
  "kernelspec": {
   "display_name": "Python 3",
   "language": "python",
   "name": "python3"
  },
  "language_info": {
   "codemirror_mode": {
    "name": "ipython",
    "version": 3
   },
   "file_extension": ".py",
   "mimetype": "text/x-python",
   "name": "python",
   "nbconvert_exporter": "python",
   "pygments_lexer": "ipython3",
   "version": "3.8.8"
  }
 },
 "nbformat": 4,
 "nbformat_minor": 5
}
