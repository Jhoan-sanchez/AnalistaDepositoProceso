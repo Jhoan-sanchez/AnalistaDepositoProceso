{
 "cells": [
  {
   "cell_type": "code",
   "execution_count": 1,
   "id": "f35bd2d8",
   "metadata": {},
   "outputs": [
    {
     "name": "stdout",
     "output_type": "stream",
     "text": [
      "Tiempo de ejecución: 0.0000 segundos\n",
      "1800\n"
     ]
    }
   ],
   "source": [
    "# Ejercicio 2 – Decorador + Validación\n",
    "\n",
    "''''Crear una función que reciba 3 o más números y los multiplique entre sí.\n",
    "\n",
    "Usar un decorador que:\n",
    "\n",
    "Verifique que todos los argumentos sean numéricos.\n",
    "\n",
    "Lance un ValueError si hay alguno que no lo sea.\n",
    "\n",
    "Calcule cuánto tiempo toma ejecutar la función.'''\n",
    "\n",
    "\n",
    "import time\n",
    "from functools import wraps\n",
    "\n",
    "def validar(func):\n",
    "    @wraps(func)\n",
    "    def wrapper(*args):\n",
    "        errores = [x for x in args if not isinstance(x, (int, float))]\n",
    "        if errores:\n",
    "            raise ValueError(f\"Argumentos no válidos: {errores}\")\n",
    "        inicio = time.time()\n",
    "        resultado = func(*args)\n",
    "        fin = time.time()\n",
    "        print(f\"Tiempo de ejecución: {fin - inicio:.4f} segundos\")\n",
    "        return resultado\n",
    "    return wrapper\n",
    "\n",
    "@validar\n",
    "def multiplicar(*numeros):\n",
    "    resultado = 1\n",
    "    for n in numeros:\n",
    "        resultado *= n\n",
    "    return resultado\n",
    "\n",
    "# test\n",
    "print(multiplicar(10, 4, 3, 15))"
   ]
  },
  {
   "cell_type": "code",
   "execution_count": null,
   "id": "b05fe69d",
   "metadata": {},
   "outputs": [],
   "source": []
  }
 ],
 "metadata": {
  "kernelspec": {
   "display_name": "Python 3",
   "language": "python",
   "name": "python3"
  },
  "language_info": {
   "codemirror_mode": {
    "name": "ipython",
    "version": 3
   },
   "file_extension": ".py",
   "mimetype": "text/x-python",
   "name": "python",
   "nbconvert_exporter": "python",
   "pygments_lexer": "ipython3",
   "version": "3.8.8"
  }
 },
 "nbformat": 4,
 "nbformat_minor": 5
}
