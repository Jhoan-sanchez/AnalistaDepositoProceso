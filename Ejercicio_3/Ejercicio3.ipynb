{
 "cells": [
  {
   "cell_type": "code",
   "execution_count": 49,
   "id": "5b5bf16e",
   "metadata": {},
   "outputs": [],
   "source": [
    "import sqlite3\n",
    "import pandas as pd"
   ]
  },
  {
   "cell_type": "code",
   "execution_count": 50,
   "id": "51d581c6",
   "metadata": {},
   "outputs": [],
   "source": [
    "# Conexión a la base de datos\n",
    "conn = sqlite3.connect(\"database.db\")\n",
    "cursor = conn.cursor()"
   ]
  },
  {
   "cell_type": "code",
   "execution_count": 51,
   "id": "390ce08e",
   "metadata": {},
   "outputs": [
    {
     "name": "stdout",
     "output_type": "stream",
     "text": [
      "✅ Archivo 'config.ini' creado correctamente.\n"
     ]
    }
   ],
   "source": [
    "import configparser\n",
    "\n",
    "# Crear archivo de configuración\n",
    "config = configparser.ConfigParser()\n",
    "config[\"output\"] = {\n",
    "    \"ruta_archivo\": \"resultado_agrupado.txt\"  # Puedes cambiar la ruta si deseas\n",
    "}\n",
    "\n",
    "# Guardar el archivo config.ini\n",
    "with open(\"config.ini\", \"w\") as configfile:\n",
    "    config.write(configfile)\n",
    "\n",
    "print(\"✅ Archivo 'config.ini' creado correctamente.\")"
   ]
  },
  {
   "cell_type": "code",
   "execution_count": null,
   "id": "cdeaee25",
   "metadata": {},
   "outputs": [],
   "source": []
  },
  {
   "cell_type": "code",
   "execution_count": 52,
   "id": "2869f50d",
   "metadata": {},
   "outputs": [
    {
     "name": "stdout",
     "output_type": "stream",
     "text": [
      "✅ Tabla 'clientes_sin_duplicados' creada.\n"
     ]
    }
   ],
   "source": [
    "# Paso 1: Crear tabla clientes_sin_duplicados con registros únicos (fecha de vinculación más antigua)\n",
    "query_clientes_sin_duplicados = \"\"\"\n",
    "DROP TABLE IF EXISTS clientes_sin_duplicados;\n",
    "\n",
    "CREATE TABLE clientes_sin_duplicados AS\n",
    "SELECT *\n",
    "FROM clientes c1\n",
    "WHERE f_vinc = (\n",
    "    SELECT MIN(f_vinc)\n",
    "    FROM clientes c2\n",
    "    WHERE c2.tipo_doc = c1.tipo_doc\n",
    "      AND c2.num_doc = c1.num_doc\n",
    "      AND c2.cod_apli_prod = c1.cod_apli_prod\n",
    "      AND c2.num_cta = c1.num_cta\n",
    ");\n",
    "\"\"\"\n",
    "cursor.executescript(query_clientes_sin_duplicados)\n",
    "conn.commit()\n",
    "print(\"✅ Tabla 'clientes_sin_duplicados' creada.\")\n"
   ]
  },
  {
   "cell_type": "code",
   "execution_count": 53,
   "id": "8817aa78",
   "metadata": {},
   "outputs": [
    {
     "name": "stdout",
     "output_type": "stream",
     "text": [
      "✅ Tabla 'transacciones_acumuladas' creada.\n"
     ]
    }
   ],
   "source": [
    "# Paso 2: Crear tabla transacciones_acumuladas (suma y suma acumulada por fecha y código transacción)\n",
    "query_transacciones_acumuladas = \"\"\"\n",
    "DROP TABLE IF EXISTS transacciones_acumuladas;\n",
    "\n",
    "CREATE TABLE transacciones_acumuladas AS\n",
    "SELECT\n",
    "    f_aplicacion_trn,\n",
    "    cod_trn,\n",
    "    SUM(mnt_trn) AS total_monto,\n",
    "    SUM(SUM(mnt_trn)) OVER (\n",
    "        PARTITION BY f_aplicacion_trn\n",
    "        ORDER BY cod_trn\n",
    "    ) AS acumulado_monto\n",
    "FROM transacciones\n",
    "GROUP BY f_aplicacion_trn, cod_trn;\n",
    "\"\"\"\n",
    "cursor.executescript(query_transacciones_acumuladas)\n",
    "conn.commit()\n",
    "print(\"✅ Tabla 'transacciones_acumuladas' creada.\")\n"
   ]
  },
  {
   "cell_type": "code",
   "execution_count": 56,
   "id": "556d1cc3",
   "metadata": {},
   "outputs": [],
   "source": [
    "# Paso 3: Crear tabla resultado_agrupado con promedio de monto por num_doc, filtrado y ordenado\n",
    "query_resultado_agrupado = \"\"\"\n",
    "DROP TABLE IF EXISTS resultado_agrupado;\n",
    "\n",
    "CREATE TABLE resultado_agrupado AS\n",
    "SELECT\n",
    "    c.num_doc,\n",
    "    AVG(t.mnt_trn) AS promedio_monto,\n",
    "    c.f_vinc\n",
    "FROM clientes_sin_duplicados c\n",
    "JOIN transacciones t\n",
    "  ON c.num_cta = t.num_cta\n",
    " AND c.cod_apli_prod = t.cod_apli_prod\n",
    "GROUP BY c.num_doc, c.f_vinc\n",
    "HAVING AVG(t.mnt_trn) > 150000\n",
    "ORDER BY c.f_vinc ASC;\n",
    "\"\"\"\n",
    "\n",
    "cursor.executescript(query_resultado_agrupado)\n",
    "conn.commit()"
   ]
  },
  {
   "cell_type": "code",
   "execution_count": 57,
   "id": "e59070f8",
   "metadata": {},
   "outputs": [
    {
     "name": "stdout",
     "output_type": "stream",
     "text": [
      "✅ Archivo 'resultado_agrupado.txt' exportado correctamente.\n"
     ]
    }
   ],
   "source": [
    "# Leer ruta desde config.ini\n",
    "config = configparser.ConfigParser()\n",
    "config.read(\"config.ini\")\n",
    "ruta_salida = config[\"output\"][\"ruta_archivo\"]\n",
    "\n",
    "# Exportar resultado_agrupado\n",
    "df = pd.read_sql_query(\"SELECT * FROM resultado_agrupado\", conn)\n",
    "df.to_csv(ruta_salida, sep=\"\\t\", index=False)\n",
    "\n",
    "print(f\"✅ Archivo '{ruta_salida}' exportado correctamente.\")"
   ]
  },
  {
   "cell_type": "code",
   "execution_count": 58,
   "id": "9fb9eda6",
   "metadata": {},
   "outputs": [],
   "source": [
    "# Cerrar conexión\n",
    "conn.close()"
   ]
  },
  {
   "cell_type": "code",
   "execution_count": null,
   "id": "dbd1a928",
   "metadata": {},
   "outputs": [],
   "source": [
    "# Resultado \n",
    "\n",
    "# Eliminanos duplicados de clientes manteniendo la fecha de vinculación más antigua.\n",
    "# Calculamos suma y suma acumulada por fecha y tipo de transacción (tabla transacciones_acumuladas).\n",
    "# Calculasmos el promedio de monto por cliente, filtraste los que tienen promedio > 150,000 y ordenaste por fecha de vinculación.\n",
    "# Exportamos el resultado a un archivo txt separado por tabulación."
   ]
  },
  {
   "cell_type": "code",
   "execution_count": null,
   "id": "bc3a68d0",
   "metadata": {},
   "outputs": [],
   "source": [
    "# Exportar datos sqlite desde python\n",
    "\n",
    "conn = sqlite3.connect(\"database.db\")\n",
    "\n",
    "# Lista de tablas que quieres exportar\n",
    "tablas = [\"clientes_sin_duplicados\", \"transacciones\", \"transacciones_acumuladas\", \"resultado_agrupado\"]\n",
    "\n",
    "# Exportar cada tabla a CSV\n",
    "for tabla in tablas:\n",
    "    df = pd.read_sql_query(f\"SELECT * FROM {tabla}\", conn)\n",
    "    df.to_csv(f\"{tabla}.csv\", index=False)\n",
    "    print(f\"Exportado {tabla}.csv\")\n",
    "\n",
    "c3onn.close()"
   ]
  },
  {
   "cell_type": "code",
   "execution_count": null,
   "id": "fd25da2a",
   "metadata": {},
   "outputs": [],
   "source": []
  }
 ],
 "metadata": {
  "kernelspec": {
   "display_name": "Python 3",
   "language": "python",
   "name": "python3"
  },
  "language_info": {
   "codemirror_mode": {
    "name": "ipython",
    "version": 3
   },
   "file_extension": ".py",
   "mimetype": "text/x-python",
   "name": "python",
   "nbconvert_exporter": "python",
   "pygments_lexer": "ipython3",
   "version": "3.8.8"
  }
 },
 "nbformat": 4,
 "nbformat_minor": 5
}
