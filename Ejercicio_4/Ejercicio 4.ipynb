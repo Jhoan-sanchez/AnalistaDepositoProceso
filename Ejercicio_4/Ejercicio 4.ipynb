{
 "cells": [
  {
   "cell_type": "code",
   "execution_count": 1,
   "id": "d6a4041c",
   "metadata": {},
   "outputs": [
    {
     "name": "stdout",
     "output_type": "stream",
     "text": [
      "✅ Archivo 'buenas_practicas_sql.txt' creado correctamente.\n"
     ]
    }
   ],
   "source": [
    "texto = \"\"\"Buenas prácticas para optimizar consultas SQL y uso de recursos:\n",
    "\n",
    "1. Usar SELECT específicos en lugar de SELECT *:\n",
    "   Evita traer columnas innecesarias, reduce carga y ancho de banda.\n",
    "\n",
    "2. Aplicar filtros temprano con cláusulas WHERE:\n",
    "   Limita el volumen de datos procesados antes de agrupar o unir.\n",
    "\n",
    "3. Crear índices en columnas usadas en JOIN, WHERE y ORDER BY:\n",
    "   Mejora la velocidad de búsqueda y combinación entre tablas.\n",
    "\n",
    "4. Evitar funciones en columnas dentro de filtros:\n",
    "   Funciones como UPPER(), CAST(), etc., deshabilitan el uso de índices.\n",
    "\n",
    "5. Preferir JOINs explícitos en vez de subconsultas anidadas:\n",
    "   Mejora claridad y facilita la optimización por parte del motor.\n",
    "\n",
    "6. Limitar el uso de operaciones costosas como ORDER BY o DISTINCT si no son necesarios.\n",
    "\n",
    "7. Usar cláusulas LIMIT / TOP para restringir resultados cuando solo necesitas una muestra.\n",
    "\n",
    "8. Revisar el plan de ejecución (EXPLAIN o EXPLAIN ANALYZE):\n",
    "   Permite identificar cuellos de botella y operaciones costosas.\n",
    "\n",
    "9. Evitar combinaciones innecesarias de tablas (cartesianas):\n",
    "   Usa ON en lugar de WHERE para definir relaciones en JOINs.\n",
    "\n",
    "10. Normalizar y limpiar los datos para evitar procesamientos complejos en cada consulta.\"\"\"\n",
    "\n",
    "with open(\"Ejercicio4\", \"w\", encoding=\"utf-8\") as f:\n",
    "    f.write(texto)\n",
    "\n",
    "print(\"✅ Archivo 'buenas_practicas_sql.txt' creado correctamente.\")"
   ]
  },
  {
   "cell_type": "code",
   "execution_count": null,
   "id": "53096174",
   "metadata": {},
   "outputs": [],
   "source": [
    "# Ejercicio 4: commit simple.."
   ]
  }
 ],
 "metadata": {
  "kernelspec": {
   "display_name": "Python 3",
   "language": "python",
   "name": "python3"
  },
  "language_info": {
   "codemirror_mode": {
    "name": "ipython",
    "version": 3
   },
   "file_extension": ".py",
   "mimetype": "text/x-python",
   "name": "python",
   "nbconvert_exporter": "python",
   "pygments_lexer": "ipython3",
   "version": "3.8.8"
  }
 },
 "nbformat": 4,
 "nbformat_minor": 5
}
